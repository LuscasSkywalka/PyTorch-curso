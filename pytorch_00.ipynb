{
  "nbformat": 4,
  "nbformat_minor": 0,
  "metadata": {
    "colab": {
      "provenance": [],
      "gpuType": "T4",
      "authorship_tag": "ABX9TyObEJ8TFLHMyDDHYY9M7qyh",
      "include_colab_link": true
    },
    "kernelspec": {
      "name": "python3",
      "display_name": "Python 3"
    },
    "language_info": {
      "name": "python"
    },
    "accelerator": "GPU"
  },
  "cells": [
    {
      "cell_type": "markdown",
      "metadata": {
        "id": "view-in-github",
        "colab_type": "text"
      },
      "source": [
        "<a href=\"https://colab.research.google.com/github/LuscasSkywalka/PyTorch-curso/blob/main/pytorch_00.ipynb\" target=\"_parent\"><img src=\"https://colab.research.google.com/assets/colab-badge.svg\" alt=\"Open In Colab\"/></a>"
      ]
    },
    {
      "cell_type": "code",
      "execution_count": null,
      "metadata": {
        "colab": {
          "base_uri": "https://localhost:8080/"
        },
        "id": "KZ6YxN4YyYvI",
        "outputId": "55b25752-ce3d-4da0-8c40-965303834c62"
      },
      "outputs": [
        {
          "output_type": "stream",
          "name": "stdout",
          "text": [
            "tensor([[7.4369e-01, 5.8512e-01, 5.1124e-01, 7.9219e-01, 8.6676e-01, 5.4062e-01,\n",
            "         4.2389e-01],\n",
            "        [3.8093e-01, 4.0838e-01, 4.2499e-02, 6.9193e-01, 3.2173e-01, 3.2704e-01,\n",
            "         8.1458e-01],\n",
            "        [2.7091e-01, 1.4810e-01, 5.7462e-01, 5.6666e-01, 4.6400e-01, 8.6480e-01,\n",
            "         6.6571e-02],\n",
            "        [4.3511e-01, 2.9005e-01, 6.6187e-01, 6.7058e-01, 2.0551e-01, 7.2734e-01,\n",
            "         7.1661e-01],\n",
            "        [4.5110e-01, 1.2981e-01, 8.5306e-02, 3.6222e-01, 9.7467e-01, 8.0418e-01,\n",
            "         9.4977e-01],\n",
            "        [6.9640e-01, 5.2603e-01, 2.3072e-01, 5.4233e-01, 2.6858e-02, 3.2782e-01,\n",
            "         7.4531e-01],\n",
            "        [4.8884e-01, 2.6393e-01, 9.7319e-01, 5.2503e-01, 5.2767e-01, 4.3052e-04,\n",
            "         9.3054e-01]])\n"
          ]
        }
      ],
      "source": [
        "import torch\n",
        "\n",
        "tensor1 = torch.rand((7, 7))\n",
        "print(tensor1)"
      ]
    },
    {
      "cell_type": "code",
      "source": [
        "tensor2 = torch.rand((1, 7))\n",
        "result = torch.matmul(tensor1, tensor2.T)  # Shape: (7, 1)\n",
        "print(result)"
      ],
      "metadata": {
        "colab": {
          "base_uri": "https://localhost:8080/"
        },
        "id": "5239EGIryvgY",
        "outputId": "cb5deb57-f1a6-493c-e8e3-594e6c63ac59"
      },
      "execution_count": null,
      "outputs": [
        {
          "output_type": "stream",
          "name": "stdout",
          "text": [
            "tensor([[2.3098],\n",
            "        [1.9456],\n",
            "        [1.2986],\n",
            "        [2.0338],\n",
            "        [2.1159],\n",
            "        [1.9474],\n",
            "        [2.0776]])\n"
          ]
        }
      ]
    },
    {
      "cell_type": "code",
      "source": [
        "torch.manual_seed(0)\n",
        "\n",
        "tensor1_seeded = torch.rand((7, 7))\n",
        "tensor2_seeded = torch.rand((1, 7))\n",
        "result_seeded = torch.matmul(tensor1_seeded, tensor2_seeded.T)\n",
        "print(tensor1_seeded)\n",
        "print(tensor2_seeded)\n",
        "print(result_seeded)"
      ],
      "metadata": {
        "colab": {
          "base_uri": "https://localhost:8080/"
        },
        "id": "XXGyVztgzJlp",
        "outputId": "d111303c-ef14-4951-eedb-0bd63d711fa6"
      },
      "execution_count": null,
      "outputs": [
        {
          "output_type": "stream",
          "name": "stdout",
          "text": [
            "tensor([[0.4963, 0.7682, 0.0885, 0.1320, 0.3074, 0.6341, 0.4901],\n",
            "        [0.8964, 0.4556, 0.6323, 0.3489, 0.4017, 0.0223, 0.1689],\n",
            "        [0.2939, 0.5185, 0.6977, 0.8000, 0.1610, 0.2823, 0.6816],\n",
            "        [0.9152, 0.3971, 0.8742, 0.4194, 0.5529, 0.9527, 0.0362],\n",
            "        [0.1852, 0.3734, 0.3051, 0.9320, 0.1759, 0.2698, 0.1507],\n",
            "        [0.0317, 0.2081, 0.9298, 0.7231, 0.7423, 0.5263, 0.2437],\n",
            "        [0.5846, 0.0332, 0.1387, 0.2422, 0.8155, 0.7932, 0.2783]])\n",
            "tensor([[0.4820, 0.8198, 0.9971, 0.6984, 0.5675, 0.8352, 0.2056]])\n",
            "tensor([[1.8542],\n",
            "        [1.9611],\n",
            "        [2.2884],\n",
            "        [3.0481],\n",
            "        [1.7067],\n",
            "        [2.5290],\n",
            "        [1.7989]])\n"
          ]
        }
      ]
    },
    {
      "cell_type": "code",
      "source": [
        "torch.cuda.manual_seed(1234)\n",
        "\n"
      ],
      "metadata": {
        "id": "4usFWsYlzRyh"
      },
      "execution_count": null,
      "outputs": []
    },
    {
      "cell_type": "code",
      "source": [
        "torch.manual_seed(1234)\n",
        "\n",
        "tensor_a = torch.rand((2, 3)).cuda()\n",
        "tensor_b = torch.rand((2, 3)).cuda()\n",
        "print(tensor_a)\n",
        "print(tensor_b)"
      ],
      "metadata": {
        "colab": {
          "base_uri": "https://localhost:8080/"
        },
        "id": "yM_6VKVlz6G1",
        "outputId": "b21fa18b-cf39-41bb-e0f0-1e273c8ef23e"
      },
      "execution_count": null,
      "outputs": [
        {
          "output_type": "stream",
          "name": "stdout",
          "text": [
            "tensor([[0.0290, 0.4019, 0.2598],\n",
            "        [0.3666, 0.0583, 0.7006]], device='cuda:0')\n",
            "tensor([[0.0518, 0.4681, 0.6738],\n",
            "        [0.3315, 0.7837, 0.5631]], device='cuda:0')\n"
          ]
        }
      ]
    },
    {
      "cell_type": "code",
      "source": [
        "result_gpu = torch.matmul(tensor_a, tensor_b.T)  # Shape: (2, 2)\n",
        "print(result_gpu)"
      ],
      "metadata": {
        "colab": {
          "base_uri": "https://localhost:8080/"
        },
        "id": "qLpjofjd0OwP",
        "outputId": "b15009bc-6b84-4ab1-f5d3-c7d01f6d6f76"
      },
      "execution_count": null,
      "outputs": [
        {
          "output_type": "stream",
          "name": "stdout",
          "text": [
            "tensor([[0.3647, 0.4709],\n",
            "        [0.5184, 0.5617]], device='cuda:0')\n"
          ]
        }
      ]
    },
    {
      "cell_type": "code",
      "source": [
        "max_val = torch.max(result_gpu)\n",
        "min_val = torch.min(result_gpu)\n",
        "print(max_val, min_val)"
      ],
      "metadata": {
        "colab": {
          "base_uri": "https://localhost:8080/"
        },
        "id": "PNqCadA119S0",
        "outputId": "8c7b2cd5-5eb9-4c72-aacb-2d607266582b"
      },
      "execution_count": null,
      "outputs": [
        {
          "output_type": "stream",
          "name": "stdout",
          "text": [
            "tensor(0.5617, device='cuda:0') tensor(0.3647, device='cuda:0')\n"
          ]
        }
      ]
    },
    {
      "cell_type": "code",
      "source": [
        "max_index = torch.argmax(result_gpu)\n",
        "min_index = torch.argmin(result_gpu)\n",
        "print(max_index, min_index)"
      ],
      "metadata": {
        "colab": {
          "base_uri": "https://localhost:8080/"
        },
        "id": "b9Vx3QDe2G86",
        "outputId": "7a4aa44f-4523-407e-996d-42da433aac35"
      },
      "execution_count": null,
      "outputs": [
        {
          "output_type": "stream",
          "name": "stdout",
          "text": [
            "tensor(3, device='cuda:0') tensor(0, device='cuda:0')\n"
          ]
        }
      ]
    },
    {
      "cell_type": "code",
      "source": [
        "torch.manual_seed(7)\n",
        "tensor_4d = torch.rand((1, 1, 1, 10))\n",
        "tensor_squeezed = tensor_4d.squeeze()\n",
        "\n",
        "print(\"Original tensor:\", tensor_4d)\n",
        "print(\"Original shape:\", tensor_4d.shape)\n",
        "print(\"Squeezed tensor:\", tensor_squeezed)\n",
        "print(\"Squeezed shape:\", tensor_squeezed.shape)\n"
      ],
      "metadata": {
        "colab": {
          "base_uri": "https://localhost:8080/"
        },
        "id": "r-HTEoDn2Vx_",
        "outputId": "e3afa571-03a9-410a-a47f-f81ab0a3e680"
      },
      "execution_count": null,
      "outputs": [
        {
          "output_type": "stream",
          "name": "stdout",
          "text": [
            "Original tensor: tensor([[[[0.5349, 0.1988, 0.6592, 0.6569, 0.2328, 0.4251, 0.2071, 0.6297,\n",
            "           0.3653, 0.8513]]]])\n",
            "Original shape: torch.Size([1, 1, 1, 10])\n",
            "Squeezed tensor: tensor([0.5349, 0.1988, 0.6592, 0.6569, 0.2328, 0.4251, 0.2071, 0.6297, 0.3653,\n",
            "        0.8513])\n",
            "Squeezed shape: torch.Size([10])\n"
          ]
        }
      ]
    },
    {
      "cell_type": "code",
      "source": [],
      "metadata": {
        "id": "G4sXycWy2ah2"
      },
      "execution_count": null,
      "outputs": []
    }
  ]
}